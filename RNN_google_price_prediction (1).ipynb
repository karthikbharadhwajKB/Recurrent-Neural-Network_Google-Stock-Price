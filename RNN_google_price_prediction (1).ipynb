{
  "nbformat": 4,
  "nbformat_minor": 0,
  "metadata": {
    "colab": {
      "name": "RNN-google_price_prediction",
      "provenance": [],
      "collapsed_sections": []
    },
    "kernelspec": {
      "name": "python3",
      "display_name": "Python 3"
    },
    "accelerator": "GPU"
  },
  "cells": [
    {
      "cell_type": "code",
      "metadata": {
        "id": "uB9oWPZO2OmJ",
        "colab_type": "code",
        "colab": {}
      },
      "source": [
        "from google.colab import files"
      ],
      "execution_count": 0,
      "outputs": []
    },
    {
      "cell_type": "code",
      "metadata": {
        "id": "8zMgTXKvKUdm",
        "colab_type": "code",
        "outputId": "30ebe43b-aa53-4e40-a187-4b8d5ee32900",
        "colab": {
          "resources": {
            "http://localhost:8080/nbextensions/google.colab/files.js": {
              "data": "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",
              "ok": true,
              "headers": [
                [
                  "content-type",
                  "application/javascript"
                ]
              ],
              "status": 200,
              "status_text": ""
            }
          },
          "base_uri": "https://localhost:8080/",
          "height": 75
        }
      },
      "source": [
        "uploaded = files.upload()"
      ],
      "execution_count": 0,
      "outputs": [
        {
          "output_type": "display_data",
          "data": {
            "text/html": [
              "\n",
              "     <input type=\"file\" id=\"files-d158989b-c2a6-4bf4-89df-feca774c2843\" name=\"files[]\" multiple disabled />\n",
              "     <output id=\"result-d158989b-c2a6-4bf4-89df-feca774c2843\">\n",
              "      Upload widget is only available when the cell has been executed in the\n",
              "      current browser session. Please rerun this cell to enable.\n",
              "      </output>\n",
              "      <script src=\"/nbextensions/google.colab/files.js\"></script> "
            ],
            "text/plain": [
              "<IPython.core.display.HTML object>"
            ]
          },
          "metadata": {
            "tags": []
          }
        },
        {
          "output_type": "stream",
          "text": [
            "Saving Google_Stock_Price_Test.csv to Google_Stock_Price_Test.csv\n"
          ],
          "name": "stdout"
        }
      ]
    },
    {
      "cell_type": "markdown",
      "metadata": {
        "id": "mhBnWCWUK4th",
        "colab_type": "text"
      },
      "source": [
        "## Importing Libraries"
      ]
    },
    {
      "cell_type": "code",
      "metadata": {
        "id": "emiIcHzdKnDx",
        "colab_type": "code",
        "colab": {}
      },
      "source": [
        "import pandas as pd\n",
        "import matplotlib.pyplot as plt\n",
        "import io\n",
        "import numpy as np "
      ],
      "execution_count": 0,
      "outputs": []
    },
    {
      "cell_type": "markdown",
      "metadata": {
        "id": "9L9B6rxQMP2G",
        "colab_type": "text"
      },
      "source": [
        "loading Train and Test Dataset "
      ]
    },
    {
      "cell_type": "code",
      "metadata": {
        "id": "QIpQim90LCB9",
        "colab_type": "code",
        "colab": {}
      },
      "source": [
        "train = pd.read_csv(io.BytesIO(uploaded['Google_Stock_Price_Train.csv']))"
      ],
      "execution_count": 0,
      "outputs": []
    },
    {
      "cell_type": "code",
      "metadata": {
        "id": "0dlblQ5RLTas",
        "colab_type": "code",
        "colab": {}
      },
      "source": [
        "test = pd.read_csv(io.BytesIO(uploaded['Google_Stock_Price_Test.csv']))"
      ],
      "execution_count": 0,
      "outputs": []
    },
    {
      "cell_type": "code",
      "metadata": {
        "id": "IuD5jySBMM__",
        "colab_type": "code",
        "outputId": "8220ea1e-d983-4636-87f9-a415836cc6c7",
        "colab": {
          "base_uri": "https://localhost:8080/",
          "height": 217
        }
      },
      "source": [
        "train.info()"
      ],
      "execution_count": 0,
      "outputs": [
        {
          "output_type": "stream",
          "text": [
            "<class 'pandas.core.frame.DataFrame'>\n",
            "RangeIndex: 1258 entries, 0 to 1257\n",
            "Data columns (total 6 columns):\n",
            "Date      1258 non-null object\n",
            "Open      1258 non-null float64\n",
            "High      1258 non-null float64\n",
            "Low       1258 non-null float64\n",
            "Close     1258 non-null object\n",
            "Volume    1258 non-null object\n",
            "dtypes: float64(3), object(3)\n",
            "memory usage: 59.1+ KB\n"
          ],
          "name": "stdout"
        }
      ]
    },
    {
      "cell_type": "code",
      "metadata": {
        "id": "Sox9ZdZZMaOK",
        "colab_type": "code",
        "outputId": "3da31fe7-bae1-4fd7-f148-d59812967ae0",
        "colab": {
          "base_uri": "https://localhost:8080/",
          "height": 198
        }
      },
      "source": [
        "train.head()"
      ],
      "execution_count": 0,
      "outputs": [
        {
          "output_type": "execute_result",
          "data": {
            "text/html": [
              "<div>\n",
              "<style scoped>\n",
              "    .dataframe tbody tr th:only-of-type {\n",
              "        vertical-align: middle;\n",
              "    }\n",
              "\n",
              "    .dataframe tbody tr th {\n",
              "        vertical-align: top;\n",
              "    }\n",
              "\n",
              "    .dataframe thead th {\n",
              "        text-align: right;\n",
              "    }\n",
              "</style>\n",
              "<table border=\"1\" class=\"dataframe\">\n",
              "  <thead>\n",
              "    <tr style=\"text-align: right;\">\n",
              "      <th></th>\n",
              "      <th>Date</th>\n",
              "      <th>Open</th>\n",
              "      <th>High</th>\n",
              "      <th>Low</th>\n",
              "      <th>Close</th>\n",
              "      <th>Volume</th>\n",
              "    </tr>\n",
              "  </thead>\n",
              "  <tbody>\n",
              "    <tr>\n",
              "      <th>0</th>\n",
              "      <td>1/3/2012</td>\n",
              "      <td>325.25</td>\n",
              "      <td>332.83</td>\n",
              "      <td>324.97</td>\n",
              "      <td>663.59</td>\n",
              "      <td>7,380,500</td>\n",
              "    </tr>\n",
              "    <tr>\n",
              "      <th>1</th>\n",
              "      <td>1/4/2012</td>\n",
              "      <td>331.27</td>\n",
              "      <td>333.87</td>\n",
              "      <td>329.08</td>\n",
              "      <td>666.45</td>\n",
              "      <td>5,749,400</td>\n",
              "    </tr>\n",
              "    <tr>\n",
              "      <th>2</th>\n",
              "      <td>1/5/2012</td>\n",
              "      <td>329.83</td>\n",
              "      <td>330.75</td>\n",
              "      <td>326.89</td>\n",
              "      <td>657.21</td>\n",
              "      <td>6,590,300</td>\n",
              "    </tr>\n",
              "    <tr>\n",
              "      <th>3</th>\n",
              "      <td>1/6/2012</td>\n",
              "      <td>328.34</td>\n",
              "      <td>328.77</td>\n",
              "      <td>323.68</td>\n",
              "      <td>648.24</td>\n",
              "      <td>5,405,900</td>\n",
              "    </tr>\n",
              "    <tr>\n",
              "      <th>4</th>\n",
              "      <td>1/9/2012</td>\n",
              "      <td>322.04</td>\n",
              "      <td>322.29</td>\n",
              "      <td>309.46</td>\n",
              "      <td>620.76</td>\n",
              "      <td>11,688,800</td>\n",
              "    </tr>\n",
              "  </tbody>\n",
              "</table>\n",
              "</div>"
            ],
            "text/plain": [
              "       Date    Open    High     Low   Close      Volume\n",
              "0  1/3/2012  325.25  332.83  324.97  663.59   7,380,500\n",
              "1  1/4/2012  331.27  333.87  329.08  666.45   5,749,400\n",
              "2  1/5/2012  329.83  330.75  326.89  657.21   6,590,300\n",
              "3  1/6/2012  328.34  328.77  323.68  648.24   5,405,900\n",
              "4  1/9/2012  322.04  322.29  309.46  620.76  11,688,800"
            ]
          },
          "metadata": {
            "tags": []
          },
          "execution_count": 12
        }
      ]
    },
    {
      "cell_type": "code",
      "metadata": {
        "id": "3xdaoBgzMc-7",
        "colab_type": "code",
        "colab": {}
      },
      "source": [
        "train_data = train.iloc[:,1:2].values"
      ],
      "execution_count": 0,
      "outputs": []
    },
    {
      "cell_type": "code",
      "metadata": {
        "id": "HDZ_zqqWODs8",
        "colab_type": "code",
        "outputId": "8a16861a-298c-4b84-93fe-2809e4cc7cb0",
        "colab": {
          "base_uri": "https://localhost:8080/",
          "height": 35
        }
      },
      "source": [
        "train_data.shape"
      ],
      "execution_count": 0,
      "outputs": [
        {
          "output_type": "execute_result",
          "data": {
            "text/plain": [
              "(1258, 1)"
            ]
          },
          "metadata": {
            "tags": []
          },
          "execution_count": 14
        }
      ]
    },
    {
      "cell_type": "markdown",
      "metadata": {
        "id": "zm6k4wdeOsC3",
        "colab_type": "text"
      },
      "source": [
        "Feature Scaling"
      ]
    },
    {
      "cell_type": "code",
      "metadata": {
        "id": "NNTwXh7AOGIC",
        "colab_type": "code",
        "colab": {}
      },
      "source": [
        "from sklearn.preprocessing import MinMaxScaler"
      ],
      "execution_count": 0,
      "outputs": []
    },
    {
      "cell_type": "code",
      "metadata": {
        "id": "GmHmHXXzPHLg",
        "colab_type": "code",
        "colab": {}
      },
      "source": [
        "sc = MinMaxScaler(feature_range=(0,1))"
      ],
      "execution_count": 0,
      "outputs": []
    },
    {
      "cell_type": "code",
      "metadata": {
        "id": "3emG78csPRlC",
        "colab_type": "code",
        "colab": {}
      },
      "source": [
        "train_sc = sc.fit_transform(train_data)"
      ],
      "execution_count": 0,
      "outputs": []
    },
    {
      "cell_type": "code",
      "metadata": {
        "id": "wSRrRBriPmwM",
        "colab_type": "code",
        "outputId": "f572246d-d284-4b0b-820b-19ed96fec151",
        "colab": {
          "base_uri": "https://localhost:8080/",
          "height": 145
        }
      },
      "source": [
        "train_sc"
      ],
      "execution_count": 0,
      "outputs": [
        {
          "output_type": "execute_result",
          "data": {
            "text/plain": [
              "array([[0.08581368],\n",
              "       [0.09701243],\n",
              "       [0.09433366],\n",
              "       ...,\n",
              "       [0.95725128],\n",
              "       [0.93796041],\n",
              "       [0.93688146]])"
            ]
          },
          "metadata": {
            "tags": []
          },
          "execution_count": 18
        }
      ]
    },
    {
      "cell_type": "markdown",
      "metadata": {
        "id": "MYx9k-KMWU9M",
        "colab_type": "text"
      },
      "source": [
        "creating Timesteps "
      ]
    },
    {
      "cell_type": "code",
      "metadata": {
        "id": "QOP_XyEWPoH9",
        "colab_type": "code",
        "colab": {}
      },
      "source": [
        "x_train = []\n",
        "y_train = [] "
      ],
      "execution_count": 0,
      "outputs": []
    },
    {
      "cell_type": "code",
      "metadata": {
        "id": "j7xxNJQiW6en",
        "colab_type": "code",
        "colab": {}
      },
      "source": [
        "for i in range(60,1258):\n",
        "  x_train.append(train_sc[i-60:i,0])\n",
        "  y_train.append(train_sc[i,0])\n",
        "x_train,y_train = np.array(x_train),np.array(y_train)\n"
      ],
      "execution_count": 0,
      "outputs": []
    },
    {
      "cell_type": "code",
      "metadata": {
        "id": "TjZT2RFHjVJV",
        "colab_type": "code",
        "outputId": "ece30f38-bd80-4d3d-949b-cb6ce5e78dd0",
        "colab": {
          "base_uri": "https://localhost:8080/",
          "height": 35
        }
      },
      "source": [
        "x_train.shape"
      ],
      "execution_count": 0,
      "outputs": [
        {
          "output_type": "execute_result",
          "data": {
            "text/plain": [
              "(1198, 60, 1)"
            ]
          },
          "metadata": {
            "tags": []
          },
          "execution_count": 41
        }
      ]
    },
    {
      "cell_type": "code",
      "metadata": {
        "id": "WI_wkakGj4H4",
        "colab_type": "code",
        "colab": {}
      },
      "source": [
        "#reshaping \n",
        "x_train = x_train.reshape((x_train.shape[0],x_train.shape[1],1))"
      ],
      "execution_count": 0,
      "outputs": []
    },
    {
      "cell_type": "code",
      "metadata": {
        "id": "iU92JnpNrbHV",
        "colab_type": "code",
        "outputId": "c3daabb9-b486-4082-e29b-79ff87ffca45",
        "colab": {
          "base_uri": "https://localhost:8080/",
          "height": 35
        }
      },
      "source": [
        "x_train.shape"
      ],
      "execution_count": 0,
      "outputs": [
        {
          "output_type": "execute_result",
          "data": {
            "text/plain": [
              "(1198, 60, 1)"
            ]
          },
          "metadata": {
            "tags": []
          },
          "execution_count": 23
        }
      ]
    },
    {
      "cell_type": "code",
      "metadata": {
        "id": "d5RXPaebrdIc",
        "colab_type": "code",
        "outputId": "a1febdde-3670-4b10-f4d6-e0ca08d8f8d2",
        "colab": {
          "base_uri": "https://localhost:8080/",
          "height": 83
        }
      },
      "source": [
        "import keras\n",
        "from keras.models import Sequential\n",
        "from keras.layers import Dense,LSTM,Dropout"
      ],
      "execution_count": 0,
      "outputs": [
        {
          "output_type": "stream",
          "text": [
            "Using TensorFlow backend.\n"
          ],
          "name": "stderr"
        },
        {
          "output_type": "display_data",
          "data": {
            "text/html": [
              "<p style=\"color: red;\">\n",
              "The default version of TensorFlow in Colab will soon switch to TensorFlow 2.x.<br>\n",
              "We recommend you <a href=\"https://www.tensorflow.org/guide/migrate\" target=\"_blank\">upgrade</a> now \n",
              "or ensure your notebook will continue to use TensorFlow 1.x via the <code>%tensorflow_version 1.x</code> magic:\n",
              "<a href=\"https://colab.research.google.com/notebooks/tensorflow_version.ipynb\" target=\"_blank\">more info</a>.</p>\n"
            ],
            "text/plain": [
              "<IPython.core.display.HTML object>"
            ]
          },
          "metadata": {
            "tags": []
          }
        }
      ]
    },
    {
      "cell_type": "markdown",
      "metadata": {
        "id": "a-iUCFj2vwVA",
        "colab_type": "text"
      },
      "source": [
        "RNN"
      ]
    },
    {
      "cell_type": "code",
      "metadata": {
        "id": "VMgqMiVXrl6J",
        "colab_type": "code",
        "outputId": "db367167-815f-448d-de23-f3435df76d1d",
        "colab": {
          "base_uri": "https://localhost:8080/",
          "height": 237
        }
      },
      "source": [
        "#Intialising the RNN\n",
        "regressor = Sequential()\n",
        "#Adding the first LSTM layers-1\n",
        "regressor.add(LSTM(units = 50, return_sequences= True, input_shape = (x_train.shape[1],1)))\n",
        "regressor.add(Dropout(0.2))\n",
        "\n",
        "#Adding the first LSTM layers-2\n",
        "regressor.add(LSTM(units = 50, return_sequences= True))\n",
        "regressor.add(Dropout(0.2))\n",
        "\n",
        "\n",
        "#Adding the first LSTM layers-3\n",
        "regressor.add(LSTM(units = 50, return_sequences= True))\n",
        "regressor.add(Dropout(0.2))\n",
        "\n",
        "#Adding the first LSTM layers-3\n",
        "regressor.add(LSTM(units = 50 ))\n",
        "regressor.add(Dropout(0.2))\n",
        "\n",
        "#Adding the output layer \n",
        "regressor.add(Dense(1,))\n"
      ],
      "execution_count": 0,
      "outputs": [
        {
          "output_type": "stream",
          "text": [
            "WARNING:tensorflow:From /usr/local/lib/python3.6/dist-packages/keras/backend/tensorflow_backend.py:66: The name tf.get_default_graph is deprecated. Please use tf.compat.v1.get_default_graph instead.\n",
            "\n",
            "WARNING:tensorflow:From /usr/local/lib/python3.6/dist-packages/keras/backend/tensorflow_backend.py:541: The name tf.placeholder is deprecated. Please use tf.compat.v1.placeholder instead.\n",
            "\n",
            "WARNING:tensorflow:From /usr/local/lib/python3.6/dist-packages/keras/backend/tensorflow_backend.py:4432: The name tf.random_uniform is deprecated. Please use tf.random.uniform instead.\n",
            "\n",
            "WARNING:tensorflow:From /usr/local/lib/python3.6/dist-packages/keras/backend/tensorflow_backend.py:148: The name tf.placeholder_with_default is deprecated. Please use tf.compat.v1.placeholder_with_default instead.\n",
            "\n",
            "WARNING:tensorflow:From /usr/local/lib/python3.6/dist-packages/keras/backend/tensorflow_backend.py:3733: calling dropout (from tensorflow.python.ops.nn_ops) with keep_prob is deprecated and will be removed in a future version.\n",
            "Instructions for updating:\n",
            "Please use `rate` instead of `keep_prob`. Rate should be set to `rate = 1 - keep_prob`.\n"
          ],
          "name": "stdout"
        }
      ]
    },
    {
      "cell_type": "code",
      "metadata": {
        "id": "jD0nY09Xr1wR",
        "colab_type": "code",
        "outputId": "fc3b57b0-c065-402d-a671-d88f52717acf",
        "colab": {
          "base_uri": "https://localhost:8080/",
          "height": 74
        }
      },
      "source": [
        "#compiling model\n",
        "regressor.compile(optimizer='adam',loss=keras.losses.mean_squared_error)"
      ],
      "execution_count": 0,
      "outputs": [
        {
          "output_type": "stream",
          "text": [
            "WARNING:tensorflow:From /usr/local/lib/python3.6/dist-packages/keras/optimizers.py:793: The name tf.train.Optimizer is deprecated. Please use tf.compat.v1.train.Optimizer instead.\n",
            "\n"
          ],
          "name": "stdout"
        }
      ]
    },
    {
      "cell_type": "code",
      "metadata": {
        "id": "dQL-xaMNPmBf",
        "colab_type": "code",
        "outputId": "18bcc2da-5118-49ea-bf92-c2aad5dea162",
        "colab": {
          "base_uri": "https://localhost:8080/",
          "height": 1000
        }
      },
      "source": [
        "#fitting the model\n",
        "regressor.fit(x=x_train,y=y_train,epochs=150,batch_size=32)"
      ],
      "execution_count": 0,
      "outputs": [
        {
          "output_type": "stream",
          "text": [
            "WARNING:tensorflow:From /usr/local/lib/python3.6/dist-packages/tensorflow_core/python/ops/math_grad.py:1424: where (from tensorflow.python.ops.array_ops) is deprecated and will be removed in a future version.\n",
            "Instructions for updating:\n",
            "Use tf.where in 2.0, which has the same broadcast rule as np.where\n",
            "WARNING:tensorflow:From /usr/local/lib/python3.6/dist-packages/keras/backend/tensorflow_backend.py:1033: The name tf.assign_add is deprecated. Please use tf.compat.v1.assign_add instead.\n",
            "\n",
            "WARNING:tensorflow:From /usr/local/lib/python3.6/dist-packages/keras/backend/tensorflow_backend.py:1020: The name tf.assign is deprecated. Please use tf.compat.v1.assign instead.\n",
            "\n",
            "WARNING:tensorflow:From /usr/local/lib/python3.6/dist-packages/keras/backend/tensorflow_backend.py:3005: The name tf.Session is deprecated. Please use tf.compat.v1.Session instead.\n",
            "\n",
            "Epoch 1/150\n",
            "WARNING:tensorflow:From /usr/local/lib/python3.6/dist-packages/keras/backend/tensorflow_backend.py:190: The name tf.get_default_session is deprecated. Please use tf.compat.v1.get_default_session instead.\n",
            "\n",
            "WARNING:tensorflow:From /usr/local/lib/python3.6/dist-packages/keras/backend/tensorflow_backend.py:197: The name tf.ConfigProto is deprecated. Please use tf.compat.v1.ConfigProto instead.\n",
            "\n",
            "WARNING:tensorflow:From /usr/local/lib/python3.6/dist-packages/keras/backend/tensorflow_backend.py:207: The name tf.global_variables is deprecated. Please use tf.compat.v1.global_variables instead.\n",
            "\n",
            "WARNING:tensorflow:From /usr/local/lib/python3.6/dist-packages/keras/backend/tensorflow_backend.py:216: The name tf.is_variable_initialized is deprecated. Please use tf.compat.v1.is_variable_initialized instead.\n",
            "\n",
            "WARNING:tensorflow:From /usr/local/lib/python3.6/dist-packages/keras/backend/tensorflow_backend.py:223: The name tf.variables_initializer is deprecated. Please use tf.compat.v1.variables_initializer instead.\n",
            "\n",
            "1198/1198 [==============================] - 24s 20ms/step - loss: 0.0579\n",
            "Epoch 2/150\n",
            "1198/1198 [==============================] - 17s 14ms/step - loss: 0.0060\n",
            "Epoch 3/150\n",
            "1198/1198 [==============================] - 16s 14ms/step - loss: 0.0049\n",
            "Epoch 4/150\n",
            "1198/1198 [==============================] - 16s 14ms/step - loss: 0.0050\n",
            "Epoch 5/150\n",
            "1198/1198 [==============================] - 17s 14ms/step - loss: 0.0051\n",
            "Epoch 6/150\n",
            "1198/1198 [==============================] - 16s 14ms/step - loss: 0.0046\n",
            "Epoch 7/150\n",
            "1198/1198 [==============================] - 16s 14ms/step - loss: 0.0044\n",
            "Epoch 8/150\n",
            "1198/1198 [==============================] - 16s 14ms/step - loss: 0.0054\n",
            "Epoch 9/150\n",
            "1198/1198 [==============================] - 16s 14ms/step - loss: 0.0045\n",
            "Epoch 10/150\n",
            "1198/1198 [==============================] - 16s 14ms/step - loss: 0.0042\n",
            "Epoch 11/150\n",
            "1198/1198 [==============================] - 16s 14ms/step - loss: 0.0040\n",
            "Epoch 12/150\n",
            "1198/1198 [==============================] - 16s 14ms/step - loss: 0.0039\n",
            "Epoch 13/150\n",
            "1198/1198 [==============================] - 16s 14ms/step - loss: 0.0039\n",
            "Epoch 14/150\n",
            "1198/1198 [==============================] - 16s 13ms/step - loss: 0.0036\n",
            "Epoch 15/150\n",
            "1198/1198 [==============================] - 16s 14ms/step - loss: 0.0037\n",
            "Epoch 16/150\n",
            "1198/1198 [==============================] - 16s 14ms/step - loss: 0.0036\n",
            "Epoch 17/150\n",
            "1198/1198 [==============================] - 16s 14ms/step - loss: 0.0040\n",
            "Epoch 18/150\n",
            "1198/1198 [==============================] - 16s 14ms/step - loss: 0.0038\n",
            "Epoch 19/150\n",
            "1198/1198 [==============================] - 16s 13ms/step - loss: 0.0037\n",
            "Epoch 20/150\n",
            "1198/1198 [==============================] - 16s 14ms/step - loss: 0.0036\n",
            "Epoch 21/150\n",
            "1198/1198 [==============================] - 16s 13ms/step - loss: 0.0031\n",
            "Epoch 22/150\n",
            "1198/1198 [==============================] - 16s 14ms/step - loss: 0.0031\n",
            "Epoch 23/150\n",
            "1198/1198 [==============================] - 16s 13ms/step - loss: 0.0030\n",
            "Epoch 24/150\n",
            "1198/1198 [==============================] - 16s 14ms/step - loss: 0.0032\n",
            "Epoch 25/150\n",
            "1198/1198 [==============================] - 16s 13ms/step - loss: 0.0031\n",
            "Epoch 26/150\n",
            "1198/1198 [==============================] - 16s 13ms/step - loss: 0.0032\n",
            "Epoch 27/150\n",
            "1198/1198 [==============================] - 16s 13ms/step - loss: 0.0032\n",
            "Epoch 28/150\n",
            "1198/1198 [==============================] - 16s 13ms/step - loss: 0.0029\n",
            "Epoch 29/150\n",
            "1198/1198 [==============================] - 16s 13ms/step - loss: 0.0029\n",
            "Epoch 30/150\n",
            "1198/1198 [==============================] - 16s 13ms/step - loss: 0.0031\n",
            "Epoch 31/150\n",
            "1198/1198 [==============================] - 16s 14ms/step - loss: 0.0035\n",
            "Epoch 32/150\n",
            "1198/1198 [==============================] - 16s 13ms/step - loss: 0.0035\n",
            "Epoch 33/150\n",
            "1198/1198 [==============================] - 16s 13ms/step - loss: 0.0026\n",
            "Epoch 34/150\n",
            "1198/1198 [==============================] - 16s 13ms/step - loss: 0.0026\n",
            "Epoch 35/150\n",
            "1198/1198 [==============================] - 16s 13ms/step - loss: 0.0030\n",
            "Epoch 36/150\n",
            "1198/1198 [==============================] - 16s 13ms/step - loss: 0.0028\n",
            "Epoch 37/150\n",
            "1198/1198 [==============================] - 16s 13ms/step - loss: 0.0024\n",
            "Epoch 38/150\n",
            "1198/1198 [==============================] - 16s 13ms/step - loss: 0.0027\n",
            "Epoch 39/150\n",
            "1198/1198 [==============================] - 16s 14ms/step - loss: 0.0028\n",
            "Epoch 40/150\n",
            "1198/1198 [==============================] - 16s 13ms/step - loss: 0.0029\n",
            "Epoch 41/150\n",
            "1198/1198 [==============================] - 16s 13ms/step - loss: 0.0028\n",
            "Epoch 42/150\n",
            "1198/1198 [==============================] - 16s 13ms/step - loss: 0.0027\n",
            "Epoch 43/150\n",
            "1198/1198 [==============================] - 16s 14ms/step - loss: 0.0026\n",
            "Epoch 44/150\n",
            "1198/1198 [==============================] - 16s 13ms/step - loss: 0.0029\n",
            "Epoch 45/150\n",
            "1198/1198 [==============================] - 16s 13ms/step - loss: 0.0024\n",
            "Epoch 46/150\n",
            "1198/1198 [==============================] - 16s 13ms/step - loss: 0.0028\n",
            "Epoch 47/150\n",
            "1198/1198 [==============================] - 16s 13ms/step - loss: 0.0024\n",
            "Epoch 48/150\n",
            "1198/1198 [==============================] - 16s 13ms/step - loss: 0.0023\n",
            "Epoch 49/150\n",
            "1198/1198 [==============================] - 16s 13ms/step - loss: 0.0025\n",
            "Epoch 50/150\n",
            "1198/1198 [==============================] - 16s 13ms/step - loss: 0.0024\n",
            "Epoch 51/150\n",
            "1198/1198 [==============================] - 16s 13ms/step - loss: 0.0021\n",
            "Epoch 52/150\n",
            "1198/1198 [==============================] - 16s 13ms/step - loss: 0.0021\n",
            "Epoch 53/150\n",
            "1198/1198 [==============================] - 16s 13ms/step - loss: 0.0022\n",
            "Epoch 54/150\n",
            "1198/1198 [==============================] - 16s 13ms/step - loss: 0.0021\n",
            "Epoch 55/150\n",
            "1198/1198 [==============================] - 16s 13ms/step - loss: 0.0027\n",
            "Epoch 56/150\n",
            "1198/1198 [==============================] - 16s 13ms/step - loss: 0.0022\n",
            "Epoch 57/150\n",
            "1198/1198 [==============================] - 16s 13ms/step - loss: 0.0023\n",
            "Epoch 58/150\n",
            "1198/1198 [==============================] - 16s 13ms/step - loss: 0.0022\n",
            "Epoch 59/150\n",
            "1198/1198 [==============================] - 16s 13ms/step - loss: 0.0020\n",
            "Epoch 60/150\n",
            "1198/1198 [==============================] - 16s 13ms/step - loss: 0.0021\n",
            "Epoch 61/150\n",
            "1198/1198 [==============================] - 16s 13ms/step - loss: 0.0020\n",
            "Epoch 62/150\n",
            "1198/1198 [==============================] - 16s 13ms/step - loss: 0.0021\n",
            "Epoch 63/150\n",
            "1198/1198 [==============================] - 16s 13ms/step - loss: 0.0020\n",
            "Epoch 64/150\n",
            "1198/1198 [==============================] - 16s 13ms/step - loss: 0.0020\n",
            "Epoch 65/150\n",
            "1198/1198 [==============================] - 16s 13ms/step - loss: 0.0023\n",
            "Epoch 66/150\n",
            "1198/1198 [==============================] - 16s 13ms/step - loss: 0.0023\n",
            "Epoch 67/150\n",
            "1198/1198 [==============================] - 16s 13ms/step - loss: 0.0019\n",
            "Epoch 68/150\n",
            "1198/1198 [==============================] - 16s 13ms/step - loss: 0.0018\n",
            "Epoch 69/150\n",
            "1198/1198 [==============================] - 16s 13ms/step - loss: 0.0017\n",
            "Epoch 70/150\n",
            "1198/1198 [==============================] - 16s 13ms/step - loss: 0.0021\n",
            "Epoch 71/150\n",
            "1198/1198 [==============================] - 16s 13ms/step - loss: 0.0020\n",
            "Epoch 72/150\n",
            "1198/1198 [==============================] - 16s 13ms/step - loss: 0.0020\n",
            "Epoch 73/150\n",
            "1198/1198 [==============================] - 16s 13ms/step - loss: 0.0017\n",
            "Epoch 74/150\n",
            "1198/1198 [==============================] - 16s 13ms/step - loss: 0.0016\n",
            "Epoch 75/150\n",
            "1198/1198 [==============================] - 16s 13ms/step - loss: 0.0019\n",
            "Epoch 76/150\n",
            "1198/1198 [==============================] - 16s 13ms/step - loss: 0.0017\n",
            "Epoch 77/150\n",
            "1198/1198 [==============================] - 16s 13ms/step - loss: 0.0017\n",
            "Epoch 78/150\n",
            "1198/1198 [==============================] - 16s 13ms/step - loss: 0.0017\n",
            "Epoch 79/150\n",
            "1198/1198 [==============================] - 16s 13ms/step - loss: 0.0017\n",
            "Epoch 80/150\n",
            "1198/1198 [==============================] - 16s 13ms/step - loss: 0.0018\n",
            "Epoch 81/150\n",
            "1198/1198 [==============================] - 16s 13ms/step - loss: 0.0016\n",
            "Epoch 82/150\n",
            "1198/1198 [==============================] - 16s 13ms/step - loss: 0.0017\n",
            "Epoch 83/150\n",
            "1198/1198 [==============================] - 16s 13ms/step - loss: 0.0015\n",
            "Epoch 84/150\n",
            "1198/1198 [==============================] - 16s 13ms/step - loss: 0.0016\n",
            "Epoch 85/150\n",
            "1198/1198 [==============================] - 16s 13ms/step - loss: 0.0015\n",
            "Epoch 86/150\n",
            "1198/1198 [==============================] - 16s 13ms/step - loss: 0.0018\n",
            "Epoch 87/150\n",
            "1198/1198 [==============================] - 16s 13ms/step - loss: 0.0016\n",
            "Epoch 88/150\n",
            "1198/1198 [==============================] - 16s 13ms/step - loss: 0.0019\n",
            "Epoch 89/150\n",
            "1198/1198 [==============================] - 16s 13ms/step - loss: 0.0016\n",
            "Epoch 90/150\n",
            "1198/1198 [==============================] - 16s 13ms/step - loss: 0.0015\n",
            "Epoch 91/150\n",
            "1198/1198 [==============================] - 16s 13ms/step - loss: 0.0015\n",
            "Epoch 92/150\n",
            "1198/1198 [==============================] - 16s 13ms/step - loss: 0.0013\n",
            "Epoch 93/150\n",
            "1198/1198 [==============================] - 16s 13ms/step - loss: 0.0015\n",
            "Epoch 94/150\n",
            "1198/1198 [==============================] - 16s 13ms/step - loss: 0.0016\n",
            "Epoch 95/150\n",
            "1198/1198 [==============================] - 16s 13ms/step - loss: 0.0015\n",
            "Epoch 96/150\n",
            "1198/1198 [==============================] - 16s 13ms/step - loss: 0.0016\n",
            "Epoch 97/150\n",
            "1198/1198 [==============================] - 16s 13ms/step - loss: 0.0014\n",
            "Epoch 98/150\n",
            "1198/1198 [==============================] - 16s 13ms/step - loss: 0.0014\n",
            "Epoch 99/150\n",
            "1198/1198 [==============================] - 16s 13ms/step - loss: 0.0016\n",
            "Epoch 100/150\n",
            "1198/1198 [==============================] - 16s 13ms/step - loss: 0.0014\n",
            "Epoch 101/150\n",
            "1198/1198 [==============================] - 16s 13ms/step - loss: 0.0013\n",
            "Epoch 102/150\n",
            "1198/1198 [==============================] - 16s 13ms/step - loss: 0.0013\n",
            "Epoch 103/150\n",
            "1198/1198 [==============================] - 16s 13ms/step - loss: 0.0015\n",
            "Epoch 104/150\n",
            "1198/1198 [==============================] - 16s 13ms/step - loss: 0.0015\n",
            "Epoch 105/150\n",
            "1198/1198 [==============================] - 16s 13ms/step - loss: 0.0012\n",
            "Epoch 106/150\n",
            "1198/1198 [==============================] - 16s 13ms/step - loss: 0.0015\n",
            "Epoch 107/150\n",
            "1198/1198 [==============================] - 16s 13ms/step - loss: 0.0014\n",
            "Epoch 108/150\n",
            "1198/1198 [==============================] - 16s 13ms/step - loss: 0.0015\n",
            "Epoch 109/150\n",
            "1198/1198 [==============================] - 16s 13ms/step - loss: 0.0014\n",
            "Epoch 110/150\n",
            "1198/1198 [==============================] - 16s 13ms/step - loss: 0.0013\n",
            "Epoch 111/150\n",
            "1198/1198 [==============================] - 16s 13ms/step - loss: 0.0013\n",
            "Epoch 112/150\n",
            "1198/1198 [==============================] - 16s 13ms/step - loss: 0.0013\n",
            "Epoch 113/150\n",
            "1198/1198 [==============================] - 16s 13ms/step - loss: 0.0015\n",
            "Epoch 114/150\n",
            "1198/1198 [==============================] - 16s 13ms/step - loss: 0.0013\n",
            "Epoch 115/150\n",
            "1198/1198 [==============================] - 16s 13ms/step - loss: 0.0014\n",
            "Epoch 116/150\n",
            "1198/1198 [==============================] - 16s 13ms/step - loss: 0.0015\n",
            "Epoch 117/150\n",
            "1198/1198 [==============================] - 16s 13ms/step - loss: 0.0013\n",
            "Epoch 118/150\n",
            "1198/1198 [==============================] - 16s 13ms/step - loss: 0.0013\n",
            "Epoch 119/150\n",
            "1198/1198 [==============================] - 16s 13ms/step - loss: 0.0014\n",
            "Epoch 120/150\n",
            "1198/1198 [==============================] - 16s 13ms/step - loss: 0.0013\n",
            "Epoch 121/150\n",
            "1198/1198 [==============================] - 16s 13ms/step - loss: 0.0013\n",
            "Epoch 122/150\n",
            "1198/1198 [==============================] - 16s 13ms/step - loss: 0.0015\n",
            "Epoch 123/150\n",
            "1198/1198 [==============================] - 16s 13ms/step - loss: 0.0014\n",
            "Epoch 124/150\n",
            "1198/1198 [==============================] - 16s 13ms/step - loss: 0.0014\n",
            "Epoch 125/150\n",
            "1198/1198 [==============================] - 16s 13ms/step - loss: 0.0013\n",
            "Epoch 126/150\n",
            "1198/1198 [==============================] - 16s 13ms/step - loss: 0.0014\n",
            "Epoch 127/150\n",
            "1198/1198 [==============================] - 16s 13ms/step - loss: 0.0012\n",
            "Epoch 128/150\n",
            "1198/1198 [==============================] - 16s 13ms/step - loss: 0.0012\n",
            "Epoch 129/150\n",
            "1198/1198 [==============================] - 16s 13ms/step - loss: 0.0011\n",
            "Epoch 130/150\n",
            "1198/1198 [==============================] - 16s 13ms/step - loss: 0.0012\n",
            "Epoch 131/150\n",
            "1198/1198 [==============================] - 16s 13ms/step - loss: 0.0011\n",
            "Epoch 132/150\n",
            "1198/1198 [==============================] - 16s 13ms/step - loss: 0.0012\n",
            "Epoch 133/150\n",
            "1198/1198 [==============================] - 16s 13ms/step - loss: 0.0012\n",
            "Epoch 134/150\n",
            "1198/1198 [==============================] - 16s 13ms/step - loss: 0.0014\n",
            "Epoch 135/150\n",
            "1198/1198 [==============================] - 16s 13ms/step - loss: 0.0013\n",
            "Epoch 136/150\n",
            "1198/1198 [==============================] - 16s 13ms/step - loss: 0.0012\n",
            "Epoch 137/150\n",
            "1198/1198 [==============================] - 16s 13ms/step - loss: 0.0013\n",
            "Epoch 138/150\n",
            "1198/1198 [==============================] - 16s 13ms/step - loss: 0.0012\n",
            "Epoch 139/150\n",
            "1198/1198 [==============================] - 16s 13ms/step - loss: 0.0012\n",
            "Epoch 140/150\n",
            "1198/1198 [==============================] - 16s 13ms/step - loss: 0.0013\n",
            "Epoch 141/150\n",
            "1198/1198 [==============================] - 16s 13ms/step - loss: 0.0013\n",
            "Epoch 142/150\n",
            "1198/1198 [==============================] - 16s 13ms/step - loss: 0.0012\n",
            "Epoch 143/150\n",
            "1198/1198 [==============================] - 16s 13ms/step - loss: 0.0011\n",
            "Epoch 144/150\n",
            "1198/1198 [==============================] - 16s 13ms/step - loss: 0.0012\n",
            "Epoch 145/150\n",
            "1198/1198 [==============================] - 16s 13ms/step - loss: 0.0012\n",
            "Epoch 146/150\n",
            "1198/1198 [==============================] - 16s 13ms/step - loss: 0.0012\n",
            "Epoch 147/150\n",
            "1198/1198 [==============================] - 16s 13ms/step - loss: 0.0011\n",
            "Epoch 148/150\n",
            "1198/1198 [==============================] - 16s 13ms/step - loss: 0.0012\n",
            "Epoch 149/150\n",
            "1198/1198 [==============================] - 16s 13ms/step - loss: 0.0012\n",
            "Epoch 150/150\n",
            "1198/1198 [==============================] - 16s 13ms/step - loss: 0.0012\n"
          ],
          "name": "stdout"
        },
        {
          "output_type": "execute_result",
          "data": {
            "text/plain": [
              "<keras.callbacks.History at 0x7f14a13bde48>"
            ]
          },
          "metadata": {
            "tags": []
          },
          "execution_count": 27
        }
      ]
    },
    {
      "cell_type": "code",
      "metadata": {
        "id": "jd5pwaAOUpos",
        "colab_type": "code",
        "colab": {}
      },
      "source": [
        "#Making predictions \n",
        "#test dataset\n",
        "actual_stock_price = test.iloc[:,1:2].values"
      ],
      "execution_count": 0,
      "outputs": []
    },
    {
      "cell_type": "code",
      "metadata": {
        "id": "DjD2SraOcf0k",
        "colab_type": "code",
        "colab": {}
      },
      "source": [
        "dataset_total = pd.concat((train['Open'],test['Open']),axis=0 )\n",
        "inputs = dataset_total[len(dataset_total) - len(test) - 60:].values \n",
        "inputs = inputs.reshape(-1,1)\n",
        "inputs_sc = sc.transform(inputs)"
      ],
      "execution_count": 0,
      "outputs": []
    },
    {
      "cell_type": "code",
      "metadata": {
        "id": "8Coh5GFLc5kZ",
        "colab_type": "code",
        "colab": {}
      },
      "source": [
        "x_test = []\n",
        "for i in range(60,80):\n",
        "  x_test.append(inputs_sc[i-60:i,0])\n",
        "x_test= np.array(x_test)"
      ],
      "execution_count": 0,
      "outputs": []
    },
    {
      "cell_type": "code",
      "metadata": {
        "id": "WO7cNRW9k5oH",
        "colab_type": "code",
        "colab": {}
      },
      "source": [
        "x_test = x_test.reshape(x_test.shape[0],x_test.shape[1],1)"
      ],
      "execution_count": 0,
      "outputs": []
    },
    {
      "cell_type": "code",
      "metadata": {
        "id": "qVbNAhAKlMJb",
        "colab_type": "code",
        "colab": {}
      },
      "source": [
        "#Predictions \n",
        "predicted_stock_price = regressor.predict(x_test)"
      ],
      "execution_count": 0,
      "outputs": []
    },
    {
      "cell_type": "code",
      "metadata": {
        "id": "sKiTybVyshbA",
        "colab_type": "code",
        "outputId": "e2f695e7-3018-4d52-f6d4-9d839ca738a0",
        "colab": {
          "base_uri": "https://localhost:8080/",
          "height": 381
        }
      },
      "source": [
        "predicted_stock_price #scaled "
      ],
      "execution_count": 0,
      "outputs": [
        {
          "output_type": "execute_result",
          "data": {
            "text/plain": [
              "array([[0.95344913],\n",
              "       [0.9489435 ],\n",
              "       [0.9563863 ],\n",
              "       [0.95825386],\n",
              "       [0.96630657],\n",
              "       [0.98055255],\n",
              "       [0.9869584 ],\n",
              "       [0.98521066],\n",
              "       [0.9863496 ],\n",
              "       [0.98815846],\n",
              "       [0.98888135],\n",
              "       [0.9882543 ],\n",
              "       [0.9876723 ],\n",
              "       [0.98954797],\n",
              "       [0.99098825],\n",
              "       [1.0059105 ],\n",
              "       [1.0192392 ],\n",
              "       [1.0305779 ],\n",
              "       [1.0310211 ],\n",
              "       [1.011598  ]], dtype=float32)"
            ]
          },
          "metadata": {
            "tags": []
          },
          "execution_count": 55
        }
      ]
    },
    {
      "cell_type": "code",
      "metadata": {
        "id": "wQwC8DTEsjXX",
        "colab_type": "code",
        "colab": {}
      },
      "source": [
        "predicted_stock_price = sc.inverse_transform(predicted_stock_price)"
      ],
      "execution_count": 0,
      "outputs": []
    },
    {
      "cell_type": "code",
      "metadata": {
        "id": "K2UPsfu2s0cy",
        "colab_type": "code",
        "outputId": "b0dbfd94-db0b-446c-83cd-2d278d56606e",
        "colab": {
          "base_uri": "https://localhost:8080/",
          "height": 381
        }
      },
      "source": [
        "predicted_stock_price #unscaled"
      ],
      "execution_count": 0,
      "outputs": [
        {
          "output_type": "execute_result",
          "data": {
            "text/plain": [
              "array([[791.65607],\n",
              "       [789.2341 ],\n",
              "       [793.235  ],\n",
              "       [794.2389 ],\n",
              "       [798.56775],\n",
              "       [806.2258 ],\n",
              "       [809.6693 ],\n",
              "       [808.7298 ],\n",
              "       [809.34204],\n",
              "       [810.31445],\n",
              "       [810.703  ],\n",
              "       [810.36597],\n",
              "       [810.0531 ],\n",
              "       [811.0614 ],\n",
              "       [811.83563],\n",
              "       [819.85724],\n",
              "       [827.0222 ],\n",
              "       [833.11743],\n",
              "       [833.3557 ],\n",
              "       [822.9146 ]], dtype=float32)"
            ]
          },
          "metadata": {
            "tags": []
          },
          "execution_count": 57
        }
      ]
    },
    {
      "cell_type": "markdown",
      "metadata": {
        "id": "lhRV21iotFY6",
        "colab_type": "text"
      },
      "source": [
        "visualization"
      ]
    },
    {
      "cell_type": "code",
      "metadata": {
        "id": "bPGdwP74s14Z",
        "colab_type": "code",
        "outputId": "026d0ade-c378-40d2-9aa6-f95de24011e2",
        "colab": {
          "base_uri": "https://localhost:8080/",
          "height": 458
        }
      },
      "source": [
        "plt.figure(figsize=(10,7))\n",
        "plt.plot(actual_stock_price,color='red',label='Actual stock price')\n",
        "plt.plot(predicted_stock_price,color='blue',label='Predicted stock price')\n",
        "plt.legend()\n",
        "plt.title('Google Stock Price Prediction')\n",
        "plt.xlabel('Time')\n",
        "plt.ylabel('Stock price')\n",
        "plt.show()"
      ],
      "execution_count": 0,
      "outputs": [
        {
          "output_type": "display_data",
          "data": {
            "image/png": "[encoded data removed]",
            "text/plain": [
              "<Figure size 720x504 with 1 Axes>"
            ]
          },
          "metadata": {
            "tags": []
          }
        }
      ]
    },
    {
      "cell_type": "code",
      "metadata": {
        "id": "xaBZw64Pt84z",
        "colab_type": "code",
        "colab": {}
      },
      "source": [
        ""
      ],
      "execution_count": 0,
      "outputs": []
    },
    {
      "cell_type": "code",
      "metadata": {
        "id": "f9nohxFUu_cE",
        "colab_type": "code",
        "colab": {}
      },
      "source": [
        ""
      ],
      "execution_count": 0,
      "outputs": []
    }
  ]
}